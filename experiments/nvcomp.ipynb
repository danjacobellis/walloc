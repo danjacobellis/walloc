{
 "cells": [
  {
   "cell_type": "code",
   "execution_count": 1,
   "id": "8accfb29-9dc2-422c-b29a-e7165b8da624",
   "metadata": {},
   "outputs": [],
   "source": [
    "import torch\n",
    "import time\n",
    "import numpy as np\n",
    "import matplotlib.pyplot as plt\n",
    "from nvidia.nvcomp import as_array, Codec\n",
    "from pytorch_ggd.GGD import GGD"
   ]
  },
  {
   "cell_type": "code",
   "execution_count": 2,
   "id": "ffd76c14-e3ee-45a8-9087-83f996548245",
   "metadata": {},
   "outputs": [],
   "source": [
    "def measure_codec_performance(\n",
    "    tensor: torch.Tensor, \n",
    "    algorithm: str, \n",
    "    warmup_runs: int = 3, \n",
    "    timed_runs: int = 5\n",
    "):\n",
    "    \"\"\"\n",
    "    Measures encode and decode performance for a single algorithm on a given PyTorch tensor.\n",
    "    Returns:\n",
    "      - compression_ratio\n",
    "      - encode_throughput_MBps\n",
    "      - decode_throughput_MBps\n",
    "      - avg_encode_time_s\n",
    "      - avg_decode_time_s\n",
    "    \"\"\"\n",
    "\n",
    "    # 1) Switch the *current device* to match the tensor’s device\n",
    "    with torch.cuda.device(tensor.device.index):\n",
    "        codec = Codec(algorithm=algorithm)  # device_id=-1 by default => use current device\n",
    "\n",
    "        nv_x = as_array(tensor)  # should now be recognized on the same device as codec\n",
    "\n",
    "        # Warmups\n",
    "        for _ in range(warmup_runs):\n",
    "            compressed_nv_x = codec.encode(nv_x)\n",
    "            _ = codec.decode(compressed_nv_x)\n",
    "            torch.cuda.synchronize()\n",
    "\n",
    "        encode_times = []\n",
    "        decode_times = []\n",
    "\n",
    "        for _ in range(timed_runs):\n",
    "            torch.cuda.synchronize()\n",
    "            t1 = time.perf_counter()\n",
    "            compressed_nv_x = codec.encode(nv_x)\n",
    "            torch.cuda.synchronize()\n",
    "            t2 = time.perf_counter()\n",
    "\n",
    "            _ = codec.decode(compressed_nv_x)\n",
    "            torch.cuda.synchronize()\n",
    "            t3 = time.perf_counter()\n",
    "\n",
    "            encode_times.append(t2 - t1)\n",
    "            decode_times.append(t3 - t2)\n",
    "        \n",
    "        # Compute metrics\n",
    "        avg_encode_time = sum(encode_times) / timed_runs\n",
    "        avg_decode_time = sum(decode_times) / timed_runs\n",
    "\n",
    "        uncompressed_size = tensor.element_size() * tensor.numel()\n",
    "        compressed_size = compressed_nv_x.buffer_size\n",
    "        compression_ratio = compressed_size / uncompressed_size\n",
    "        \n",
    "        encode_throughput_MBps = (uncompressed_size / avg_encode_time) / 1_000_000\n",
    "        decode_throughput_MBps = (uncompressed_size / avg_decode_time) / 1_000_000\n",
    "\n",
    "    return (compression_ratio, encode_throughput_MBps, decode_throughput_MBps, avg_encode_time, avg_decode_time)"
   ]
  },
  {
   "cell_type": "code",
   "execution_count": 3,
   "id": "0626fe90-c19e-4fac-aa2a-583a9abcd1a0",
   "metadata": {},
   "outputs": [
    {
     "data": {
      "image/png": "[encoded data removed]",
      "text/plain": [
       "<Figure size 640x480 with 1 Axes>"
      ]
     },
     "metadata": {},
     "output_type": "display_data"
    }
   ],
   "source": [
    "device = \"cuda:1\"\n",
    "ggd = GGD(loc=0., scale=0.3, power=0.5)\n",
    "x = torch.rand(128, 48, 16, 16)\n",
    "x = x.to(device)\n",
    "with torch.no_grad():\n",
    "    x = ggd.icdf(x)\n",
    "    x = x.clamp(-31.49,31.49).round().to(torch.int8)\n",
    "plt.hist(x.flatten().cpu().numpy(),bins=64,range=(-31,32));"
   ]
  },
  {
   "cell_type": "code",
   "execution_count": 4,
   "id": "e2dd6e4d-799c-4fce-a0a6-eb1a4fbf7c8e",
   "metadata": {},
   "outputs": [
    {
     "name": "stdout",
     "output_type": "stream",
     "text": [
      "\n",
      "Algorithm: LZ4\n",
      "  - Compression Ratio: 0.87\n",
      "  - Encode Throughput: 164.79 MB/s\n",
      "  - Decode Throughput: 500.04 MB/s\n",
      "  - Encode Time: 9.5445e-03 s\n",
      "  - Decode Time: 3.1455e-03 s\n",
      "\n",
      "Algorithm: Bitcomp\n",
      "  - Compression Ratio: 1.00\n",
      "  - Encode Throughput: 25175.33 MB/s\n",
      "  - Decode Throughput: 19069.92 MB/s\n",
      "  - Encode Time: 6.2476e-05 s\n",
      "  - Decode Time: 8.2479e-05 s\n",
      "\n",
      "Algorithm: Snappy\n",
      "  - Compression Ratio: 0.81\n",
      "  - Encode Throughput: 136.40 MB/s\n",
      "  - Decode Throughput: 426.00 MB/s\n",
      "  - Encode Time: 1.1531e-02 s\n",
      "  - Decode Time: 3.6922e-03 s\n",
      "\n",
      "Algorithm: Zstd\n",
      "  - Compression Ratio: 0.47\n",
      "  - Encode Throughput: 94.40 MB/s\n",
      "  - Decode Throughput: 374.75 MB/s\n",
      "  - Encode Time: 1.6662e-02 s\n",
      "  - Decode Time: 4.1971e-03 s\n",
      "\n",
      "Algorithm: Deflate\n",
      "  - Compression Ratio: 0.48\n",
      "  - Encode Throughput: 116.80 MB/s\n",
      "  - Decode Throughput: 243.89 MB/s\n",
      "  - Encode Time: 1.3467e-02 s\n",
      "  - Decode Time: 6.4490e-03 s\n",
      "\n",
      "Algorithm: GDeflate\n",
      "  - Compression Ratio: 0.48\n",
      "  - Encode Throughput: 122.50 MB/s\n",
      "  - Decode Throughput: 575.62 MB/s\n",
      "  - Encode Time: 1.2839e-02 s\n",
      "  - Decode Time: 2.7325e-03 s\n",
      "\n",
      "Algorithm: ANS\n",
      "  - Compression Ratio: 0.46\n",
      "  - Encode Throughput: 12729.23 MB/s\n",
      "  - Decode Throughput: 17158.87 MB/s\n",
      "  - Encode Time: 1.2356e-04 s\n",
      "  - Decode Time: 9.1665e-05 s\n",
      "\n",
      "Algorithm: Cascaded\n",
      "  - Compression Ratio: 0.98\n",
      "  - Encode Throughput: 3537.39 MB/s\n",
      "  - Decode Throughput: 4781.07 MB/s\n",
      "  - Encode Time: 4.4464e-04 s\n",
      "  - Decode Time: 3.2898e-04 s\n"
     ]
    }
   ],
   "source": [
    "algorithms = [\"LZ4\", \"Bitcomp\", \"Snappy\", \"Zstd\", \"Deflate\", \"GDeflate\", \"ANS\", \"Cascaded\"]\n",
    "\n",
    "for algo in algorithms:\n",
    "    comp_ratio, enc_MBps, dec_MBps, enc_time, dec_time = measure_codec_performance(x, algo)\n",
    "    print(f\"\\nAlgorithm: {algo}\")\n",
    "    print(f\"  - Compression Ratio: {comp_ratio:.2f}\")\n",
    "    print(f\"  - Encode Throughput: {enc_MBps:.2f} MB/s\")\n",
    "    print(f\"  - Decode Throughput: {dec_MBps:.2f} MB/s\")\n",
    "    print(f\"  - Encode Time: {enc_time:.4e} s\")\n",
    "    print(f\"  - Decode Time: {dec_time:.4e} s\")"
   ]
  }
 ],
 "metadata": {
  "kernelspec": {
   "display_name": "Python 3 (ipykernel)",
   "language": "python",
   "name": "python3"
  },
  "language_info": {
   "codemirror_mode": {
    "name": "ipython",
    "version": 3
   },
   "file_extension": ".py",
   "mimetype": "text/x-python",
   "name": "python",
   "nbconvert_exporter": "python",
   "pygments_lexer": "ipython3",
   "version": "3.10.12"
  }
 },
 "nbformat": 4,
 "nbformat_minor": 5
}
